{
 "cells": [
  {
   "cell_type": "markdown",
   "metadata": {},
   "source": [
    "# WeatherAPI (Weather)\n",
    "\n",
    "Answer the following questions using [WeatherAPI](http://www.weatherapi.com/). I've added three cells for most questions but you're free to use more or less! Hold `Shift` and hit `Enter` to run a cell, and use the `+` on the top left to add a new cell to a notebook.\n",
    "\n",
    "Be sure to take advantage of both the documentation and the API Explorer!\n",
    "\n",
    "## 0) Import any libraries you might need\n",
    "\n",
    "- *Tip: We're going to be downloading things from the internet, so we probably need `requests`.*\n",
    "- *Tip: Remember you only need to import requests once!*"
   ]
  },
  {
   "cell_type": "code",
   "execution_count": 1,
   "metadata": {},
   "outputs": [],
   "source": [
    "import requests"
   ]
  },
  {
   "cell_type": "markdown",
   "metadata": {
    "collapsed": true
   },
   "source": [
    "## 1) Make a request to the Weather API for where you were born (or lived, or want to visit!).\n",
    "\n",
    "- *Tip: The URL we used in class was for a place near San Francisco. What was the format of the endpoint that made this happen?*\n",
    "- *Tip: Save the URL as a separate variable, and be sure to not have `[` and `]` inside.*\n",
    "- *Tip: How is north vs. south and east vs. west latitude/longitude represented? Is it the normal North/South/East/West?*\n",
    "- *Tip: You know it's JSON, but Python doesn't! Make sure you aren't trying to deal with plain text.* \n",
    "- *Tip: Once you've imported the JSON into a variable, check the timezone's name to make sure it seems like it got the right part of the world!*"
   ]
  },
  {
   "cell_type": "code",
   "execution_count": 2,
   "metadata": {},
   "outputs": [],
   "source": [
    "url = \"https://api.weatherapi.com/v1/current.json?key=34c667f0717b4b7cb0d165543221306&q=Singapore\""
   ]
  },
  {
   "cell_type": "code",
   "execution_count": 3,
   "metadata": {},
   "outputs": [],
   "source": [
    "response = requests.get(url)"
   ]
  },
  {
   "cell_type": "code",
   "execution_count": 4,
   "metadata": {},
   "outputs": [],
   "source": [
    "data = response.json()"
   ]
  },
  {
   "cell_type": "markdown",
   "metadata": {},
   "source": [
    "## 2) What's the current wind speed? How much warmer does it feel than it actually is?\n",
    "\n",
    "- *Tip: You can do this by browsing through the dictionaries, but it might be easier to read the documentation*\n",
    "- *Tip: For the second half: it **is** one temperature, and it **feels** a different temperature. Calculate the difference.*"
   ]
  },
  {
   "cell_type": "code",
   "execution_count": 5,
   "metadata": {},
   "outputs": [
    {
     "name": "stdout",
     "output_type": "stream",
     "text": [
      "{'location': {'name': 'Singapore', 'region': '', 'country': 'Singapore', 'lat': 1.29, 'lon': 103.86, 'tz_id': 'Asia/Singapore', 'localtime_epoch': 1655363766, 'localtime': '2022-06-16 15:16'}, 'current': {'last_updated_epoch': 1655359200, 'last_updated': '2022-06-16 14:00', 'temp_c': 26.0, 'is_day': 1, 'condition': {'text': 'Moderate or heavy rain with thunder', 'icon': '//cdn.weatherapi.com/weather/64x64/day/389.png', 'code': 1276}, 'wind_kph': 9.0, 'wind_degree': 280, 'wind_dir': 'W', 'pressure_mb': 1009.0, 'pressure_in': 29.8, 'precip_mm': 3.7, 'precip_in': 0.15, 'humidity': 84, 'cloud': 75, 'feelslike_c': 27.8, 'vis_km': 7.0, 'uv': 6.0, 'gust_kph': 12.2}}\n"
     ]
    }
   ],
   "source": [
    "print(data)"
   ]
  },
  {
   "cell_type": "code",
   "execution_count": 6,
   "metadata": {},
   "outputs": [
    {
     "name": "stdout",
     "output_type": "stream",
     "text": [
      "The current wind speed in Singapore is 9.0 km/hour.\n"
     ]
    }
   ],
   "source": [
    "current_wind_speed = data[\"current\"][\"wind_kph\"]\n",
    "print(f\"The current wind speed in Singapore is {current_wind_speed} km/hour.\")"
   ]
  },
  {
   "cell_type": "code",
   "execution_count": 7,
   "metadata": {},
   "outputs": [
    {
     "name": "stdout",
     "output_type": "stream",
     "text": [
      "It feels 1.80 degrees C warmer than it actually is.\n"
     ]
    }
   ],
   "source": [
    "current_temp = data[\"current\"][\"temp_c\"]\n",
    "feels_like_temp = data[\"current\"][\"feelslike_c\"]\n",
    "difference = feels_like_temp - current_temp\n",
    "print(f\"It feels {difference:.2f} degrees C warmer than it actually is.\")"
   ]
  },
  {
   "cell_type": "markdown",
   "metadata": {},
   "source": [
    "## 3) What is the API endpoint for moon-related information? For the place you decided on above, how much of the moon will be visible tomorrow?\n",
    "\n",
    "- *Tip: Check the documentation!*\n",
    "- *Tip: If you aren't sure what something means, ask in Slack*"
   ]
  },
  {
   "cell_type": "code",
   "execution_count": 8,
   "metadata": {},
   "outputs": [],
   "source": [
    "url = \"https://api.weatherapi.com/v1/astronomy.json?key=34c667f0717b4b7cb0d165543221306&q=Singapore&dt=2022-06-17\""
   ]
  },
  {
   "cell_type": "code",
   "execution_count": 9,
   "metadata": {},
   "outputs": [],
   "source": [
    "response = requests.get(url)"
   ]
  },
  {
   "cell_type": "code",
   "execution_count": 10,
   "metadata": {},
   "outputs": [],
   "source": [
    "data = response.json()"
   ]
  },
  {
   "cell_type": "code",
   "execution_count": 11,
   "metadata": {},
   "outputs": [
    {
     "name": "stdout",
     "output_type": "stream",
     "text": [
      "80 per cent of the moon will be visible tomorrow.\n"
     ]
    }
   ],
   "source": [
    "moon_phase = data[\"astronomy\"][\"astro\"][\"moon_phase\"]\n",
    "moon_illumination = data[\"astronomy\"][\"astro\"][\"moon_illumination\"]\n",
    "print(f\"{moon_illumination} per cent of the moon will be visible tomorrow.\")"
   ]
  },
  {
   "cell_type": "markdown",
   "metadata": {},
   "source": [
    "## 4) What's the difference between the high and low temperatures for today?\n",
    "\n",
    "- *Tip: When you requested moon data, you probably overwrote your variables! If so, you'll need to make a new request.*"
   ]
  },
  {
   "cell_type": "code",
   "execution_count": 12,
   "metadata": {},
   "outputs": [],
   "source": [
    "url = \"https://api.weatherapi.com/v1/forecast.json?key=34c667f0717b4b7cb0d165543221306&q=Singapore&days=1\"\n",
    "response = requests.get(url)\n",
    "data = response.json()"
   ]
  },
  {
   "cell_type": "code",
   "execution_count": 13,
   "metadata": {},
   "outputs": [
    {
     "name": "stdout",
     "output_type": "stream",
     "text": [
      "The difference between the highest and lowest temperatures for today is 2.60 deg C.\n"
     ]
    }
   ],
   "source": [
    "max_temp = data[\"forecast\"][\"forecastday\"][0][\"day\"][\"maxtemp_c\"]\n",
    "min_temp = data[\"forecast\"][\"forecastday\"][0][\"day\"][\"mintemp_c\"]\n",
    "print(f\"The difference between the highest and lowest temperatures for today is {max_temp-min_temp:.2f} deg C.\")"
   ]
  },
  {
   "cell_type": "markdown",
   "metadata": {
    "collapsed": true
   },
   "source": [
    "## 4.5) How can you avoid the \"oh no I don't have the data any more because I made another request\" problem in the future?\n",
    "\n",
    "What variable(s) do you have to rename, and what would you rename them?"
   ]
  },
  {
   "cell_type": "markdown",
   "metadata": {},
   "source": [
    "I can rename the data variables to 1) data_current, 2) data_astronomy, 3) data_forecast "
   ]
  },
  {
   "cell_type": "markdown",
   "metadata": {},
   "source": [
    "## 5) Go through the daily forecasts, printing out the next three days' worth of predictions.\n",
    "\n",
    "I'd like to know the **high temperature** for each day, and whether it's **hot, warm, or cold** (based on what temperatures you think are hot, warm or cold).\n",
    "\n",
    "- *Tip: You'll need to use an `if` statement to say whether it is hot, warm or cold.*"
   ]
  },
  {
   "cell_type": "code",
   "execution_count": 19,
   "metadata": {},
   "outputs": [],
   "source": [
    "url = \"https://api.weatherapi.com/v1/forecast.json?key=34c667f0717b4b7cb0d165543221306&q=Singapore&days=3\"\n",
    "response = requests.get(url)\n",
    "data_3day = response.json()"
   ]
  },
  {
   "cell_type": "code",
   "execution_count": 85,
   "metadata": {},
   "outputs": [
    {
     "name": "stdout",
     "output_type": "stream",
     "text": [
      "2022-06-16 - 28.8 deg C It's warm.\n",
      "2022-06-17 - 28.3 deg C It's warm.\n",
      "2022-06-18 - 27.4 deg C It's warm.\n"
     ]
    }
   ],
   "source": [
    "dates = data_3day[\"forecast\"][\"forecastday\"]\n",
    "for date in dates:\n",
    "    if date[\"day\"][\"maxtemp_c\"] >= 25:\n",
    "        print(date[\"date\"], \"-\", date[\"day\"][\"maxtemp_c\"], \"deg C\", \"It's warm.\")\n",
    "    else: \n",
    "        print(date[\"date\"], \"-\", date[\"day\"][\"maxtemp_c\"], \"deg C\", \"It's cold.\")"
   ]
  },
  {
   "cell_type": "markdown",
   "metadata": {},
   "source": [
    "## 5b) The question above used to be an entire week, but not any more. Try to re-use the code above to print out seven days.\n",
    "\n",
    "What happens? Can you figure out why it doesn't work?\n",
    "\n",
    "* *Tip: it has to do with the reason you're using an API key - maybe take a look at the \"Air Quality Data\" introduction for a hint? If you can't figure it out right now, no worries.*"
   ]
  },
  {
   "cell_type": "code",
   "execution_count": 57,
   "metadata": {},
   "outputs": [],
   "source": [
    "url = \"https://api.weatherapi.com/v1/forecast.json?key=34c667f0717b4b7cb0d165543221306&q=Singapore&days=7&aqi=yes\"\n",
    "response = requests.get(url)\n",
    "data_7day = response.json()"
   ]
  },
  {
   "cell_type": "code",
   "execution_count": 59,
   "metadata": {},
   "outputs": [],
   "source": [
    "# dates = data_7day[\"forecast\"][\"forecastday\"][3]\n",
    "# print(dates)"
   ]
  },
  {
   "cell_type": "markdown",
   "metadata": {},
   "source": [
    "**\"IndexError: list index out of range\"** - \n",
    "I can print only 3 days worth of weather forecase on the free plan. "
   ]
  },
  {
   "cell_type": "markdown",
   "metadata": {},
   "source": [
    "## 6) What will be the hottest day in the next three days? What is the high temperature on that day?"
   ]
  },
  {
   "cell_type": "code",
   "execution_count": 62,
   "metadata": {},
   "outputs": [
    {
     "name": "stdout",
     "output_type": "stream",
     "text": [
      "The hottest day is June 16, with temperature going as high as 28.8 deg C. But it's actually considered a relatively cooling day going by the norm in tropical climate.\n"
     ]
    }
   ],
   "source": [
    "print(\"The hottest day is June 16, with temperature going as high as 28.8 deg C. But it's actually considered a relatively cooling day going by the norm in tropical climate.\")"
   ]
  },
  {
   "cell_type": "markdown",
   "metadata": {},
   "source": [
    "## 7) What's the weather looking like for the next 24+ hours in Miami, Florida?\n",
    "\n",
    "I'd like to know the temperature for every hour, and if it's going to have cloud cover of more than 50% say \"{temperature} and cloudy\" instead of just the temperature. \n",
    "\n",
    "- *Tip: You'll only need one day of forecast*"
   ]
  },
  {
   "cell_type": "code",
   "execution_count": 64,
   "metadata": {},
   "outputs": [],
   "source": [
    "url = \"https://api.weatherapi.com/v1/forecast.json?key=34c667f0717b4b7cb0d165543221306&q=Miami&days=1\"\n",
    "response = requests.get(url)\n",
    "data_miami = response.json()"
   ]
  },
  {
   "cell_type": "code",
   "execution_count": 84,
   "metadata": {},
   "outputs": [
    {
     "name": "stdout",
     "output_type": "stream",
     "text": [
      "2022-06-16 00:00 - 28.8 deg C\n",
      "2022-06-16 01:00 - 28.7 deg C\n",
      "2022-06-16 02:00 - 28.7 deg C\n",
      "2022-06-16 03:00 - 28.6 deg C\n",
      "2022-06-16 04:00 - 28.6 deg C\n",
      "2022-06-16 05:00 - 28.5 deg C and cloudy\n",
      "2022-06-16 06:00 - 28.5 deg C and cloudy\n",
      "2022-06-16 07:00 - 28.4 deg C and cloudy\n",
      "2022-06-16 08:00 - 28.5 deg C and cloudy\n",
      "2022-06-16 09:00 - 28.7 deg C and cloudy\n",
      "2022-06-16 10:00 - 28.9 deg C\n",
      "2022-06-16 11:00 - 32.2 deg C and cloudy\n",
      "2022-06-16 12:00 - 32.5 deg C\n",
      "2022-06-16 13:00 - 32.7 deg C\n",
      "2022-06-16 14:00 - 32.9 deg C\n",
      "2022-06-16 15:00 - 32.9 deg C\n",
      "2022-06-16 16:00 - 32.5 deg C\n",
      "2022-06-16 17:00 - 31.7 deg C\n",
      "2022-06-16 18:00 - 30.8 deg C\n",
      "2022-06-16 19:00 - 29.9 deg C\n",
      "2022-06-16 20:00 - 29.1 deg C\n",
      "2022-06-16 21:00 - 28.9 deg C\n",
      "2022-06-16 22:00 - 28.8 deg C and cloudy\n",
      "2022-06-16 23:00 - 28.8 deg C and cloudy\n"
     ]
    }
   ],
   "source": [
    "miami_1day = data_miami[\"forecast\"][\"forecastday\"]\n",
    "for day in miami_1day:\n",
    "    # print(day.keys())\n",
    "    # print(day[\"hour\"])\n",
    "    for hour in day[\"hour\"]:\n",
    "        if hour[\"cloud\"] > 50:\n",
    "            print(hour[\"time\"], \"-\", hour[\"temp_c\"], \"deg C\", \"and cloudy\")\n",
    "        else: \n",
    "            print(hour[\"time\"], \"-\", hour[\"temp_c\"], \"deg C\")  "
   ]
  },
  {
   "cell_type": "code",
   "execution_count": null,
   "metadata": {},
   "outputs": [],
   "source": []
  },
  {
   "cell_type": "markdown",
   "metadata": {},
   "source": [
    "## 8) For the next 24-ish hours in Miami, what percent of the time is the temperature above 85 degrees?\n",
    "\n",
    "- *Tip: You might want to read up on [looping patterns](http://jonathansoma.com/lede/foundations-2017/classes/data%20structures/looping-patterns/)*"
   ]
  },
  {
   "cell_type": "code",
   "execution_count": null,
   "metadata": {},
   "outputs": [],
   "source": []
  },
  {
   "cell_type": "code",
   "execution_count": null,
   "metadata": {},
   "outputs": [],
   "source": []
  },
  {
   "cell_type": "code",
   "execution_count": null,
   "metadata": {},
   "outputs": [],
   "source": []
  },
  {
   "cell_type": "markdown",
   "metadata": {},
   "source": [
    "## 9) How much will it cost if you need to use 1,500,000 API calls?\n",
    "\n",
    "You are only allowed 1,000,000 API calls each month. If you were really bad at this homework or made some awful loops, WeatherAPI might shut down your free access. \n",
    "\n",
    "* *Tip: this involves looking somewhere that isn't the normal documentation.*"
   ]
  },
  {
   "cell_type": "code",
   "execution_count": null,
   "metadata": {},
   "outputs": [],
   "source": []
  },
  {
   "cell_type": "code",
   "execution_count": null,
   "metadata": {},
   "outputs": [],
   "source": []
  },
  {
   "cell_type": "markdown",
   "metadata": {},
   "source": [
    "## 10) You're too poor to spend more money! What else could you do instead of give them money?\n",
    "\n",
    "* *Tip: I'm not endorsing being sneaky, but newsrooms and students are both generally poverty-stricken.*"
   ]
  },
  {
   "cell_type": "code",
   "execution_count": null,
   "metadata": {},
   "outputs": [],
   "source": []
  }
 ],
 "metadata": {
  "kernelspec": {
   "display_name": "Python 3 (ipykernel)",
   "language": "python",
   "name": "python3"
  },
  "language_info": {
   "codemirror_mode": {
    "name": "ipython",
    "version": 3
   },
   "file_extension": ".py",
   "mimetype": "text/x-python",
   "name": "python",
   "nbconvert_exporter": "python",
   "pygments_lexer": "ipython3",
   "version": "3.10.3"
  }
 },
 "nbformat": 4,
 "nbformat_minor": 1
}
